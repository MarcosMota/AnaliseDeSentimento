{
  "nbformat": 4,
  "nbformat_minor": 0,
  "metadata": {
    "colab": {
      "name": "Reviews de Ecommerce.ipynb",
      "provenance": [],
      "authorship_tag": "ABX9TyOl7tzSdsPjwSX/2iT8Xybe",
      "include_colab_link": true
    },
    "kernelspec": {
      "name": "python3",
      "display_name": "Python 3"
    }
  },
  "cells": [
    {
      "cell_type": "markdown",
      "metadata": {
        "id": "view-in-github",
        "colab_type": "text"
      },
      "source": [
        "<a href=\"https://colab.research.google.com/github/MarcosMota/AnaliseDeSentimento/blob/master/Reviews_de_Ecommerce.ipynb\" target=\"_parent\"><img src=\"https://colab.research.google.com/assets/colab-badge.svg\" alt=\"Open In Colab\"/></a>"
      ]
    },
    {
      "cell_type": "code",
      "metadata": {
        "id": "pYweSLkHRjbG",
        "colab_type": "code",
        "colab": {}
      },
      "source": [
        ""
      ],
      "execution_count": 0,
      "outputs": []
    },
    {
      "cell_type": "markdown",
      "metadata": {
        "id": "Hq4T2trtRpAg",
        "colab_type": "text"
      },
      "source": [
        "#Conjunto de Dados"
      ]
    },
    {
      "cell_type": "markdown",
      "metadata": {
        "id": "nWUbBQYLRwop",
        "colab_type": "text"
      },
      "source": [
        "#Rotulação"
      ]
    },
    {
      "cell_type": "markdown",
      "metadata": {
        "id": "yrCj9gAZSHIv",
        "colab_type": "text"
      },
      "source": [
        "#Pre Processamento"
      ]
    },
    {
      "cell_type": "markdown",
      "metadata": {
        "id": "_P5rvVSxSSDp",
        "colab_type": "text"
      },
      "source": [
        "#Treinamento"
      ]
    },
    {
      "cell_type": "markdown",
      "metadata": {
        "id": "n-7TlxVZSWKB",
        "colab_type": "text"
      },
      "source": [
        "#Validação"
      ]
    },
    {
      "cell_type": "markdown",
      "metadata": {
        "id": "U8wjrUPoSa1R",
        "colab_type": "text"
      },
      "source": [
        "#Conclusão"
      ]
    }
  ]
}